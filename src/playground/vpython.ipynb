{
 "cells": [
  {
   "cell_type": "code",
   "execution_count": 51,
   "id": "deb72603",
   "metadata": {},
   "outputs": [
    {
     "data": {
      "text/html": [
       "<div id=\"glowscript\" class=\"glowscript\"></div>"
      ],
      "text/plain": [
       "<IPython.core.display.HTML object>"
      ]
     },
     "metadata": {},
     "output_type": "display_data"
    },
    {
     "data": {
      "application/javascript": [
       "if (typeof Jupyter !== \"undefined\") { window.__context = { glowscript_container: $(\"#glowscript\").removeAttr(\"id\")};}else{ element.textContent = ' ';}"
      ],
      "text/plain": [
       "<IPython.core.display.Javascript object>"
      ]
     },
     "metadata": {},
     "output_type": "display_data"
    },
    {
     "name": "stdout",
     "output_type": "stream",
     "text": [
      "W = -0.26366966666640296\n",
      "Wa = -0.26666666666666666\n",
      "A = -0.259476806837488\n"
     ]
    }
   ],
   "source": [
    "from vpython import *\n",
    "scene = canvas()\n",
    "A = sphere(pos = vector(0,0,0), radius = 0.04)\n",
    "B = sphere(pos = vector(1,0,0), radius = 0.04)\n",
    "C = sphere(pos = vector(1,2,0), radius = 0.04)\n",
    "\n",
    "ball = sphere(pos = A.pos, radius = 0.06, color = color.yellow, make_trail=True)\n",
    "\n",
    "W = 0\n",
    "L = B.pos - A.pos\n",
    "N = 1000\n",
    "\n",
    "dL = L/N\n",
    "# Define Field\n",
    "def F(r):\n",
    "    return (vector(r.x*r.y**3,(r.x**2-r.y**2),0))\n",
    "Rate = 1000\n",
    "Fscale = 0.3\n",
    "Farrow = arrow(pos = ball.pos, axis = Fscale*F(ball.pos), color=color.cyan)\n",
    "\n",
    "while ball.pos.x < B.pos.x:\n",
    "    rate(Rate)\n",
    "    dW = dot(F(ball.pos), dL)\n",
    "    W = W + dW\n",
    "    ball.pos = ball.pos + dL\n",
    "    Farrow.pos  = ball.pos\n",
    "    Farrow.axis = Fscale*F((ball.pos))\n",
    "    \n",
    "    \n",
    "L = C.pos - B.pos\n",
    "dL = L/N\n",
    "Farrow = arrow(pos = ball.pos, axis = Fscale*F(ball.pos), color=color.cyan)\n",
    "while ball.pos.y < C.pos.y:\n",
    "    rate(Rate)\n",
    "    dW = dot(F(ball.pos), dL)\n",
    "    W = W + dW\n",
    "    ball.pos = ball.pos + dL\n",
    "    Farrow.pos  = ball.pos\n",
    "    Farrow.axis = Fscale*F((ball.pos))\n",
    "    \n",
    "L = A.pos - C.pos\n",
    "dL = L/N\n",
    "Farrow = arrow(pos = ball.pos, axis = Fscale*F(ball.pos), color=color.cyan)\n",
    "while ball.pos.y > A.pos.y:\n",
    "    rate(Rate)\n",
    "    dW = dot(F(ball.pos), dL)\n",
    "    W = W + dW\n",
    "    ball.pos = ball.pos + dL\n",
    "    Farrow.pos  = ball.pos\n",
    "    Farrow.axis = Fscale*F((ball.pos))\n",
    "\n",
    "print('W = '+str(W))\n",
    "print('Wa = '+str(-4/15))\n",
    "\n",
    "def Fxy(r):\n",
    "    return(2*r.x-3*r.x*r.y**2)\n",
    "A = 0\n",
    "dx = 0.005\n",
    "dy = 0.005\n",
    "zscale = 0.06\n",
    "rt = vector(0,0,0)\n",
    "while rt.x < 1:\n",
    "    rt.y = 0\n",
    "    \n",
    "    while rt.y < 2*rt.x:\n",
    "        # rate(5000)\n",
    "        box(pos=rt, size = vector(dx, dy, zscale*Fxy(rt)))\n",
    "        dA = Fxy(rt)*dx*dy\n",
    "        A = A + dA\n",
    "        rt = rt+vector(0,dy,0)\n",
    "    rt = rt + vector(dx, 0,0)\n",
    "    \n",
    "print('A = '+str(A))\n",
    "    "
   ]
  },
  {
   "cell_type": "code",
   "execution_count": null,
   "id": "5de1778b",
   "metadata": {},
   "outputs": [],
   "source": []
  }
 ],
 "metadata": {
  "kernelspec": {
   "display_name": "Python 3 (ipykernel)",
   "language": "python",
   "name": "python3"
  },
  "language_info": {
   "codemirror_mode": {
    "name": "ipython",
    "version": 3
   },
   "file_extension": ".py",
   "mimetype": "text/x-python",
   "name": "python",
   "nbconvert_exporter": "python",
   "pygments_lexer": "ipython3",
   "version": "3.8.10"
  }
 },
 "nbformat": 4,
 "nbformat_minor": 5
}
